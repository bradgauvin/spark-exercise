{
 "cells": [
  {
   "cell_type": "markdown",
   "id": "6bd47f58",
   "metadata": {},
   "source": [
    "### Create a jupyter notebook or python script named `spark101` for this exercise.\n",
    "\n",
    "#### 1. Create a spark data frame that contains your favorite programming languages.\n",
    "\n",
    "- The name of the column should be language\n",
    "- View the schema of the dataframe\n",
    "- Output the shape of the dataframe\n",
    "- Show the first 5 records in the dataframe\n",
    "\n",
    "#### 2. Load the mpg dataset as a spark dataframe.\n",
    "\n",
    "    a. Create 1 column of output that contains a message like the one below:\n",
    "\n",
    "\n",
    "`The 1999 audi a4 has a 4 cylinder engine.`\n",
    "For each vehicle.\n",
    "\n",
    "    b. Transform the trans column so that it only contains either manual or auto.\n",
    "\n",
    "#### 3. Load the tips dataset as a spark dataframe.\n",
    "\n",
    "- What percentage of observations are smokers?\n",
    "- Create a column that contains the tip percentage\n",
    "- Calculate the average tip percentage for each combination of sex and smoker.\n",
    "\n",
    "#### 4. Use the seattle weather dataset referenced in the lesson to answer the questions below.\n",
    "\n",
    "- Convert the temperatures to fahrenheit.\n",
    "- Which month has the most rain, on average?\n",
    "- Which year was the windiest?\n",
    "- What is the most frequent type of weather in January?\n",
    "- What is the average high and low temperature on sunny days in July in 2013 and 2014?\n",
    "- What percentage of days were rainy in q3 of 2015?\n",
    "- For each year, find what percentage of days it rained (had non-zero precipitation)."
   ]
  },
  {
   "cell_type": "code",
   "execution_count": 1,
   "id": "bcb096c6",
   "metadata": {
    "ExecuteTime": {
     "end_time": "2022-09-09T15:36:33.002375Z",
     "start_time": "2022-09-09T15:36:31.720452Z"
    }
   },
   "outputs": [],
   "source": [
    "import pyspark\n",
    "import pydataset\n",
    "import pandas as pd\n",
    "from pyspark.sql.functions import *\n",
    "from vega_datasets import data as vega_data"
   ]
  },
  {
   "cell_type": "code",
   "execution_count": 2,
   "id": "f207badd",
   "metadata": {
    "ExecuteTime": {
     "end_time": "2022-09-09T15:36:56.950822Z",
     "start_time": "2022-09-09T15:36:47.465706Z"
    }
   },
   "outputs": [
    {
     "name": "stderr",
     "output_type": "stream",
     "text": [
      "Setting default log level to \"WARN\".\n",
      "To adjust logging level use sc.setLogLevel(newLevel). For SparkR, use setLogLevel(newLevel).\n"
     ]
    },
    {
     "name": "stdout",
     "output_type": "stream",
     "text": [
      "22/09/09 08:36:51 WARN NativeCodeLoader: Unable to load native-hadoop library for your platform... using builtin-java classes where applicable\n"
     ]
    }
   ],
   "source": [
    "spark = pyspark.sql.SparkSession.builder.getOrCreate()\n",
    "df = spark.createDataFrame(pd.DataFrame({'language':['python','java','c++','r','javascript','scala','html']}))"
   ]
  },
  {
   "cell_type": "code",
   "execution_count": 3,
   "id": "fae41e58",
   "metadata": {
    "ExecuteTime": {
     "end_time": "2022-09-09T15:37:14.737824Z",
     "start_time": "2022-09-09T15:37:14.711619Z"
    }
   },
   "outputs": [
    {
     "data": {
      "text/plain": [
       "StructType([StructField('language', StringType(), True)])"
      ]
     },
     "execution_count": 3,
     "metadata": {},
     "output_type": "execute_result"
    }
   ],
   "source": [
    "df.schema"
   ]
  },
  {
   "cell_type": "code",
   "execution_count": 4,
   "id": "2203ddcc",
   "metadata": {
    "ExecuteTime": {
     "end_time": "2022-09-09T15:37:34.813607Z",
     "start_time": "2022-09-09T15:37:31.210981Z"
    }
   },
   "outputs": [
    {
     "name": "stderr",
     "output_type": "stream",
     "text": [
      "\r",
      "[Stage 0:>                                                          (0 + 8) / 8]\r"
     ]
    },
    {
     "name": "stdout",
     "output_type": "stream",
     "text": [
      "7 x 1\n"
     ]
    },
    {
     "name": "stderr",
     "output_type": "stream",
     "text": [
      "\r",
      "                                                                                \r"
     ]
    }
   ],
   "source": [
    "print(df.count(),'x',len(df.columns))"
   ]
  },
  {
   "cell_type": "code",
   "execution_count": 5,
   "id": "858efae0",
   "metadata": {
    "ExecuteTime": {
     "end_time": "2022-09-09T15:37:47.241093Z",
     "start_time": "2022-09-09T15:37:46.548260Z"
    }
   },
   "outputs": [
    {
     "name": "stdout",
     "output_type": "stream",
     "text": [
      "+----------+\n",
      "|  language|\n",
      "+----------+\n",
      "|    python|\n",
      "|      java|\n",
      "|       c++|\n",
      "|         r|\n",
      "|javascript|\n",
      "+----------+\n",
      "only showing top 5 rows\n",
      "\n"
     ]
    }
   ],
   "source": [
    "df.show(5)"
   ]
  },
  {
   "cell_type": "markdown",
   "id": "530493e8",
   "metadata": {},
   "source": [
    "#### 2. Load the mpg dataset as a spark dataframe.\n",
    "\n",
    "    a. Create 1 column of output that contains a message like the one below:\n",
    "\n",
    "\n",
    "`The 1999 audi a4 has a 4 cylinder engine.`\n",
    "For each vehicle.\n",
    "\n",
    "    b. Transform the trans column so that it only contains either manual or auto."
   ]
  },
  {
   "cell_type": "code",
   "execution_count": 6,
   "id": "60ad5ce0",
   "metadata": {
    "ExecuteTime": {
     "end_time": "2022-09-09T15:38:15.626327Z",
     "start_time": "2022-09-09T15:38:15.446232Z"
    }
   },
   "outputs": [],
   "source": [
    "df = spark.createDataFrame(pydataset.data('mpg'))"
   ]
  },
  {
   "cell_type": "code",
   "execution_count": 7,
   "id": "59fb72f4",
   "metadata": {
    "ExecuteTime": {
     "end_time": "2022-09-09T15:38:23.709872Z",
     "start_time": "2022-09-09T15:38:23.178906Z"
    }
   },
   "outputs": [
    {
     "name": "stdout",
     "output_type": "stream",
     "text": [
      "+------------+-----+-----+----+---+----------+---+---+---+---+-------+\n",
      "|manufacturer|model|displ|year|cyl|     trans|drv|cty|hwy| fl|  class|\n",
      "+------------+-----+-----+----+---+----------+---+---+---+---+-------+\n",
      "|        audi|   a4|  1.8|1999|  4|  auto(l5)|  f| 18| 29|  p|compact|\n",
      "|        audi|   a4|  1.8|1999|  4|manual(m5)|  f| 21| 29|  p|compact|\n",
      "|        audi|   a4|  2.0|2008|  4|manual(m6)|  f| 20| 31|  p|compact|\n",
      "|        audi|   a4|  2.0|2008|  4|  auto(av)|  f| 21| 30|  p|compact|\n",
      "|        audi|   a4|  2.8|1999|  6|  auto(l5)|  f| 16| 26|  p|compact|\n",
      "+------------+-----+-----+----+---+----------+---+---+---+---+-------+\n",
      "only showing top 5 rows\n",
      "\n"
     ]
    }
   ],
   "source": [
    "df.show(5)"
   ]
  },
  {
   "cell_type": "code",
   "execution_count": 8,
   "id": "d36e5afc",
   "metadata": {
    "ExecuteTime": {
     "end_time": "2022-09-09T15:38:46.541438Z",
     "start_time": "2022-09-09T15:38:45.902340Z"
    }
   },
   "outputs": [
    {
     "name": "stdout",
     "output_type": "stream",
     "text": [
      "+------------+-----+-----+----+---+----------+---+---+---+---+-------+-----------------------------------------+\n",
      "|manufacturer|model|displ|year|cyl|trans     |drv|cty|hwy|fl |class  |message                                  |\n",
      "+------------+-----+-----+----+---+----------+---+---+---+---+-------+-----------------------------------------+\n",
      "|audi        |a4   |1.8  |1999|4  |auto(l5)  |f  |18 |29 |p  |compact|The 1999 audi a4 has a 4 cylinder engine.|\n",
      "|audi        |a4   |1.8  |1999|4  |manual(m5)|f  |21 |29 |p  |compact|The 1999 audi a4 has a 4 cylinder engine.|\n",
      "|audi        |a4   |2.0  |2008|4  |manual(m6)|f  |20 |31 |p  |compact|The 2008 audi a4 has a 4 cylinder engine.|\n",
      "|audi        |a4   |2.0  |2008|4  |auto(av)  |f  |21 |30 |p  |compact|The 2008 audi a4 has a 4 cylinder engine.|\n",
      "|audi        |a4   |2.8  |1999|6  |auto(l5)  |f  |16 |26 |p  |compact|The 1999 audi a4 has a 6 cylinder engine.|\n",
      "|audi        |a4   |2.8  |1999|6  |manual(m5)|f  |18 |26 |p  |compact|The 1999 audi a4 has a 6 cylinder engine.|\n",
      "|audi        |a4   |3.1  |2008|6  |auto(av)  |f  |18 |27 |p  |compact|The 2008 audi a4 has a 6 cylinder engine.|\n",
      "+------------+-----+-----+----+---+----------+---+---+---+---+-------+-----------------------------------------+\n",
      "only showing top 7 rows\n",
      "\n"
     ]
    }
   ],
   "source": [
    "message = (concat(lit('The '),'year',lit(' '),'manufacturer',lit(' '),'model',lit(' has a '), 'cyl', lit(' cylinder engine.')))\n",
    "\n",
    "df.select('*',message.alias('message')).show(7, truncate = False)"
   ]
  },
  {
   "cell_type": "code",
   "execution_count": 9,
   "id": "3f863444",
   "metadata": {
    "ExecuteTime": {
     "end_time": "2022-09-09T15:39:14.334581Z",
     "start_time": "2022-09-09T15:39:13.917320Z"
    }
   },
   "outputs": [
    {
     "name": "stdout",
     "output_type": "stream",
     "text": [
      "+----------+-----------------------------------+\n",
      "|     trans|regexp_extract(trans, (\\w{4,6}), 1)|\n",
      "+----------+-----------------------------------+\n",
      "|  auto(l5)|                               auto|\n",
      "|manual(m5)|                             manual|\n",
      "|manual(m6)|                             manual|\n",
      "|  auto(av)|                               auto|\n",
      "|  auto(l5)|                               auto|\n",
      "+----------+-----------------------------------+\n",
      "only showing top 5 rows\n",
      "\n"
     ]
    }
   ],
   "source": [
    "df.select(\n",
    "    \"trans\",\n",
    "    regexp_extract('trans',r'(\\w{4,6})',1)\n",
    ").show(5)"
   ]
  },
  {
   "cell_type": "markdown",
   "id": "45c54221",
   "metadata": {},
   "source": [
    "#### 3. Load the tips dataset as a spark dataframe.\n",
    "\n",
    "- What percentage of observations are smokers?\n",
    "- Create a column that contains the tip percentage\n",
    "- Calculate the average tip percentage for each combination of sex and smoker."
   ]
  },
  {
   "cell_type": "code",
   "execution_count": 10,
   "id": "30307d8a",
   "metadata": {
    "ExecuteTime": {
     "end_time": "2022-09-09T15:40:19.627127Z",
     "start_time": "2022-09-09T15:40:19.484059Z"
    }
   },
   "outputs": [],
   "source": [
    "df = spark.createDataFrame(pydataset.data('tips'))"
   ]
  },
  {
   "cell_type": "code",
   "execution_count": 11,
   "id": "a68ec03f",
   "metadata": {
    "ExecuteTime": {
     "end_time": "2022-09-09T15:40:28.180355Z",
     "start_time": "2022-09-09T15:40:27.702034Z"
    }
   },
   "outputs": [
    {
     "name": "stdout",
     "output_type": "stream",
     "text": [
      "+----------+----+------+------+---+------+----+\n",
      "|total_bill| tip|   sex|smoker|day|  time|size|\n",
      "+----------+----+------+------+---+------+----+\n",
      "|     16.99|1.01|Female|    No|Sun|Dinner|   2|\n",
      "|     10.34|1.66|  Male|    No|Sun|Dinner|   3|\n",
      "|     21.01| 3.5|  Male|    No|Sun|Dinner|   3|\n",
      "|     23.68|3.31|  Male|    No|Sun|Dinner|   2|\n",
      "|     24.59|3.61|Female|    No|Sun|Dinner|   4|\n",
      "+----------+----+------+------+---+------+----+\n",
      "only showing top 5 rows\n",
      "\n"
     ]
    }
   ],
   "source": [
    "df.show(5)"
   ]
  },
  {
   "cell_type": "code",
   "execution_count": 12,
   "id": "c6a26d19",
   "metadata": {
    "ExecuteTime": {
     "end_time": "2022-09-09T15:40:43.715276Z",
     "start_time": "2022-09-09T15:40:42.929898Z"
    }
   },
   "outputs": [
    {
     "name": "stdout",
     "output_type": "stream",
     "text": [
      "+-------------------+\n",
      "|    percent_smokers|\n",
      "+-------------------+\n",
      "|0.38114754098360654|\n",
      "+-------------------+\n",
      "\n"
     ]
    }
   ],
   "source": [
    "is_smoker = when(df.smoker == 'Yes',1).otherwise(0)\n",
    "df.select(avg(is_smoker).alias('percent_smokers')).show(5)"
   ]
  },
  {
   "cell_type": "code",
   "execution_count": 13,
   "id": "e63d71ff",
   "metadata": {
    "ExecuteTime": {
     "end_time": "2022-09-09T15:41:22.712443Z",
     "start_time": "2022-09-09T15:41:19.611615Z"
    }
   },
   "outputs": [
    {
     "name": "stderr",
     "output_type": "stream",
     "text": [
      "[Stage 16:=====================>                                    (3 + 5) / 8]\r"
     ]
    },
    {
     "name": "stdout",
     "output_type": "stream",
     "text": [
      "+------+-----+-------------------+\n",
      "|smoker|count|            percent|\n",
      "+------+-----+-------------------+\n",
      "|    No|  151| 0.6188524590163934|\n",
      "|   Yes|   93|0.38114754098360654|\n",
      "+------+-----+-------------------+\n",
      "\n"
     ]
    },
    {
     "name": "stderr",
     "output_type": "stream",
     "text": [
      "\r",
      "                                                                                \r"
     ]
    }
   ],
   "source": [
    "df.groupby('smoker').count().withColumn(\n",
    "    'percent', col('count')/df.count()).show()"
   ]
  },
  {
   "cell_type": "code",
   "execution_count": 14,
   "id": "4327ada3",
   "metadata": {
    "ExecuteTime": {
     "end_time": "2022-09-09T15:41:44.880830Z",
     "start_time": "2022-09-09T15:41:44.700053Z"
    }
   },
   "outputs": [],
   "source": [
    "tip_percentage = (df.tip / df.total_bill).alias('tip_percentage')\n",
    "df = df.select('*', tip_percentage)"
   ]
  },
  {
   "cell_type": "code",
   "execution_count": 15,
   "id": "09c662d0",
   "metadata": {
    "ExecuteTime": {
     "end_time": "2022-09-09T15:41:53.723394Z",
     "start_time": "2022-09-09T15:41:53.023039Z"
    }
   },
   "outputs": [
    {
     "name": "stdout",
     "output_type": "stream",
     "text": [
      "+----------+----+------+------+---+------+----+-------------------+\n",
      "|total_bill| tip|   sex|smoker|day|  time|size|     tip_percentage|\n",
      "+----------+----+------+------+---+------+----+-------------------+\n",
      "|     16.99|1.01|Female|    No|Sun|Dinner|   2|0.05944673337257211|\n",
      "|     10.34|1.66|  Male|    No|Sun|Dinner|   3|0.16054158607350097|\n",
      "|     21.01| 3.5|  Male|    No|Sun|Dinner|   3|0.16658733936220846|\n",
      "|     23.68|3.31|  Male|    No|Sun|Dinner|   2| 0.1397804054054054|\n",
      "|     24.59|3.61|Female|    No|Sun|Dinner|   4|0.14680764538430255|\n",
      "+----------+----+------+------+---+------+----+-------------------+\n",
      "only showing top 5 rows\n",
      "\n"
     ]
    }
   ],
   "source": [
    "df.show(5)"
   ]
  },
  {
   "cell_type": "code",
   "execution_count": 16,
   "id": "303a0f31",
   "metadata": {
    "ExecuteTime": {
     "end_time": "2022-09-09T15:42:04.680687Z",
     "start_time": "2022-09-09T15:42:02.929017Z"
    }
   },
   "outputs": [
    {
     "name": "stderr",
     "output_type": "stream",
     "text": [
      "\r",
      "[Stage 20:>                                                         (0 + 8) / 8]\r"
     ]
    },
    {
     "name": "stdout",
     "output_type": "stream",
     "text": [
      "+------+------+-------------------+\n",
      "|   sex|smoker|avg(tip_percentage)|\n",
      "+------+------+-------------------+\n",
      "|  Male|    No| 0.1606687151291298|\n",
      "|Female|    No| 0.1569209707691836|\n",
      "|  Male|   Yes|0.15277117520248512|\n",
      "|Female|   Yes|0.18215035269941032|\n",
      "+------+------+-------------------+\n",
      "\n"
     ]
    },
    {
     "name": "stderr",
     "output_type": "stream",
     "text": [
      "\r",
      "                                                                                \r"
     ]
    }
   ],
   "source": [
    "df.groupby('sex','smoker').agg(avg('tip_percentage')).show()"
   ]
  },
  {
   "cell_type": "markdown",
   "id": "2dd51a7e",
   "metadata": {},
   "source": [
    "#### 4. Use the seattle weather dataset referenced in the lesson to answer the questions below.\n",
    "\n",
    "- Convert the temperatures to fahrenheit.\n",
    "- Which month has the most rain, on average?\n",
    "- Which year was the windiest?\n",
    "- What is the most frequent type of weather in January?\n",
    "- What is the average high and low temperature on sunny days in July in 2013 and 2014?\n",
    "- What percentage of days were rainy in q3 of 2015?\n",
    "- For each year, find what percentage of days it rained (had non-zero precipitation)."
   ]
  },
  {
   "cell_type": "code",
   "execution_count": 17,
   "id": "74303595",
   "metadata": {
    "ExecuteTime": {
     "end_time": "2022-09-09T15:42:41.186713Z",
     "start_time": "2022-09-09T15:42:40.416133Z"
    }
   },
   "outputs": [
    {
     "name": "stdout",
     "output_type": "stream",
     "text": [
      "+----------+-------------+--------+--------+----+-------+\n",
      "|      date|precipitation|temp_max|temp_min|wind|weather|\n",
      "+----------+-------------+--------+--------+----+-------+\n",
      "|2012-01-01|          0.0|    12.8|     5.0| 4.7|drizzle|\n",
      "|2012-01-02|         10.9|    10.6|     2.8| 4.5|   rain|\n",
      "|2012-01-03|          0.8|    11.7|     7.2| 2.3|   rain|\n",
      "|2012-01-04|         20.3|    12.2|     5.6| 4.7|   rain|\n",
      "|2012-01-05|          1.3|     8.9|     2.8| 6.1|   rain|\n",
      "|2012-01-06|          2.5|     4.4|     2.2| 2.2|   rain|\n",
      "+----------+-------------+--------+--------+----+-------+\n",
      "only showing top 6 rows\n",
      "\n"
     ]
    }
   ],
   "source": [
    "weather = vega_data.seattle_weather().assign(date=lambda df: df.date.astype(str))\n",
    "weather = spark.createDataFrame(weather)\n",
    "weather.show(6)"
   ]
  },
  {
   "cell_type": "code",
   "execution_count": 18,
   "id": "3df3d97d",
   "metadata": {
    "ExecuteTime": {
     "end_time": "2022-09-09T15:42:55.523258Z",
     "start_time": "2022-09-09T15:42:55.497851Z"
    }
   },
   "outputs": [],
   "source": [
    "def convert_c_to_f(temp):\n",
    "    \"\"\" Converts Fahrenheit to Celcius \"\"\"\n",
    "    return temp * (9/5) + 32\n",
    "\n",
    "# convert python function to pyspark udf\n",
    "udf_convert = udf(lambda temp: convert_c_to_f(temp))"
   ]
  },
  {
   "cell_type": "code",
   "execution_count": 19,
   "id": "4eb2841d",
   "metadata": {
    "ExecuteTime": {
     "end_time": "2022-09-09T15:43:04.969899Z",
     "start_time": "2022-09-09T15:43:04.758793Z"
    }
   },
   "outputs": [],
   "source": [
    "weather = weather.withColumn('temp_max_f', \n",
    "                   udf_convert(col('temp_max'))).withColumn('temp_min_f', \n",
    "                   udf_convert(col('temp_min')))"
   ]
  },
  {
   "cell_type": "code",
   "execution_count": 20,
   "id": "0a1ac6b9",
   "metadata": {
    "ExecuteTime": {
     "end_time": "2022-09-09T15:43:13.813514Z",
     "start_time": "2022-09-09T15:43:13.722037Z"
    }
   },
   "outputs": [],
   "source": [
    "month = regexp_extract(weather.date, r'-(\\d+)-',1).alias('month')\n",
    "year = regexp_extract(weather.date, r'(\\d{4})',1).alias('year')"
   ]
  },
  {
   "cell_type": "code",
   "execution_count": 21,
   "id": "73073143",
   "metadata": {
    "ExecuteTime": {
     "end_time": "2022-09-09T15:43:28.988724Z",
     "start_time": "2022-09-09T15:43:27.622517Z"
    }
   },
   "outputs": [
    {
     "name": "stderr",
     "output_type": "stream",
     "text": [
      "\r",
      "[Stage 24:>                                                         (0 + 1) / 1]\r",
      "\r",
      "                                                                                \r"
     ]
    },
    {
     "name": "stdout",
     "output_type": "stream",
     "text": [
      "+----------+-------------+--------+--------+----+-------+------------------+----------+-----+----+\n",
      "|      date|precipitation|temp_max|temp_min|wind|weather|        temp_max_f|temp_min_f|month|year|\n",
      "+----------+-------------+--------+--------+----+-------+------------------+----------+-----+----+\n",
      "|2012-01-01|          0.0|    12.8|     5.0| 4.7|drizzle|55.040000000000006|      41.0|   01|2012|\n",
      "|2012-01-02|         10.9|    10.6|     2.8| 4.5|   rain|             51.08|     37.04|   01|2012|\n",
      "|2012-01-03|          0.8|    11.7|     7.2| 2.3|   rain|             53.06|     44.96|   01|2012|\n",
      "|2012-01-04|         20.3|    12.2|     5.6| 4.7|   rain|             53.96|     42.08|   01|2012|\n",
      "|2012-01-05|          1.3|     8.9|     2.8| 6.1|   rain|48.019999999999996|     37.04|   01|2012|\n",
      "+----------+-------------+--------+--------+----+-------+------------------+----------+-----+----+\n",
      "only showing top 5 rows\n",
      "\n"
     ]
    }
   ],
   "source": [
    "weather = weather.select('*',month, year)\n",
    "weather.show(5)"
   ]
  },
  {
   "cell_type": "markdown",
   "id": "1c7b6382",
   "metadata": {},
   "source": [
    "Month with most rain on average"
   ]
  },
  {
   "cell_type": "code",
   "execution_count": 23,
   "id": "93e20d22",
   "metadata": {
    "ExecuteTime": {
     "end_time": "2022-09-09T15:44:12.800028Z",
     "start_time": "2022-09-09T15:44:10.162855Z"
    }
   },
   "outputs": [
    {
     "name": "stderr",
     "output_type": "stream",
     "text": [
      "\r",
      "[Stage 25:>                                                         (0 + 8) / 8]\r"
     ]
    },
    {
     "name": "stdout",
     "output_type": "stream",
     "text": [
      "+-----+-------------------------+\n",
      "|month|avg_monthly_precipitation|\n",
      "+-----+-------------------------+\n",
      "|   11|                  160.625|\n",
      "+-----+-------------------------+\n",
      "only showing top 1 row\n",
      "\n"
     ]
    },
    {
     "name": "stderr",
     "output_type": "stream",
     "text": [
      "\r",
      "                                                                                \r"
     ]
    }
   ],
   "source": [
    "weather.groupby('month','year').agg(sum('precipitation').alias('total_monthly_precipitation')).groupby('month').agg(mean('total_monthly_precipitation').alias('avg_monthly_precipitation')).sort(desc('avg_monthly_precipitation')).show(1)\n"
   ]
  },
  {
   "cell_type": "markdown",
   "id": "936e864a",
   "metadata": {},
   "source": [
    "Windiest year (by average wind)"
   ]
  },
  {
   "cell_type": "code",
   "execution_count": 24,
   "id": "aaf56458",
   "metadata": {
    "ExecuteTime": {
     "end_time": "2022-09-09T15:44:44.777305Z",
     "start_time": "2022-09-09T15:44:43.094666Z"
    }
   },
   "outputs": [
    {
     "name": "stderr",
     "output_type": "stream",
     "text": [
      "\r",
      "[Stage 31:>                                                         (0 + 8) / 8]\r"
     ]
    },
    {
     "name": "stdout",
     "output_type": "stream",
     "text": [
      "+----+-----------------+\n",
      "|year|     average_wind|\n",
      "+----+-----------------+\n",
      "|2012|3.400819672131148|\n",
      "+----+-----------------+\n",
      "only showing top 1 row\n",
      "\n"
     ]
    },
    {
     "name": "stderr",
     "output_type": "stream",
     "text": [
      "\r",
      "                                                                                \r"
     ]
    }
   ],
   "source": [
    "(\n",
    "    weather.groupby('year')\n",
    "    .agg(avg('wind')\n",
    "    .alias('average_wind'))\n",
    "    .sort(desc('average_wind'))\n",
    "    .show(1)\n",
    ")"
   ]
  },
  {
   "cell_type": "markdown",
   "id": "1470d2a0",
   "metadata": {},
   "source": [
    "Most frequent type of weather in January"
   ]
  },
  {
   "cell_type": "code",
   "execution_count": 25,
   "id": "6bbed41d",
   "metadata": {
    "ExecuteTime": {
     "end_time": "2022-09-09T15:45:08.974532Z",
     "start_time": "2022-09-09T15:45:07.305933Z"
    }
   },
   "outputs": [
    {
     "name": "stdout",
     "output_type": "stream",
     "text": [
      "+-------+-----+\n",
      "|weather|count|\n",
      "+-------+-----+\n",
      "|    fog|   38|\n",
      "+-------+-----+\n",
      "only showing top 1 row\n",
      "\n"
     ]
    }
   ],
   "source": [
    "(\n",
    "    weather.filter((month == '01'))\n",
    "    .groupby('weather')\n",
    "    .count()\n",
    "    .sort(desc('count'))\n",
    "    .show(1)\n",
    ")"
   ]
  },
  {
   "cell_type": "markdown",
   "id": "595a8018",
   "metadata": {},
   "source": [
    "Average high and low temp on sunny days in July in 2013 and 2014"
   ]
  },
  {
   "cell_type": "code",
   "execution_count": 26,
   "id": "19380a95",
   "metadata": {
    "ExecuteTime": {
     "end_time": "2022-09-09T15:45:34.000600Z",
     "start_time": "2022-09-09T15:45:32.269901Z"
    }
   },
   "outputs": [
    {
     "name": "stderr",
     "output_type": "stream",
     "text": [
      "\r",
      "[Stage 37:>                                                         (0 + 8) / 8]\r"
     ]
    },
    {
     "name": "stdout",
     "output_type": "stream",
     "text": [
      "+-----------------+-----------------+\n",
      "|  avg(temp_max_f)|  avg(temp_min_f)|\n",
      "+-----------------+-----------------+\n",
      "|63.78147959183674|48.25188775510203|\n",
      "+-----------------+-----------------+\n",
      "\n"
     ]
    },
    {
     "name": "stderr",
     "output_type": "stream",
     "text": [
      "\r",
      "                                                                                \r"
     ]
    }
   ],
   "source": [
    "weather.filter((weather.weather == 'sun')&(month == '07')&(year == '2013')|(year == '2014')).select(\n",
    "    avg('temp_max_f'),\n",
    "    avg('temp_min_f')\n",
    ").show()"
   ]
  },
  {
   "cell_type": "code",
   "execution_count": 27,
   "id": "86029da4",
   "metadata": {
    "ExecuteTime": {
     "end_time": "2022-09-09T16:01:38.278580Z",
     "start_time": "2022-09-09T16:01:37.880047Z"
    }
   },
   "outputs": [],
   "source": [
    "weather = weather.withColumn('quarter',quarter(weather.date))"
   ]
  },
  {
   "cell_type": "code",
   "execution_count": 28,
   "id": "ad3e8539",
   "metadata": {
    "ExecuteTime": {
     "end_time": "2022-09-09T16:02:02.701606Z",
     "start_time": "2022-09-09T16:02:02.551128Z"
    }
   },
   "outputs": [],
   "source": [
    "subset = weather.filter((weather.quarter == '3')&(weather.year == '2015'))#.groupby('weather').agg(\n",
    "    #(count('weather')).alias('weather_count'))"
   ]
  },
  {
   "cell_type": "code",
   "execution_count": 29,
   "id": "5503ab4a",
   "metadata": {
    "ExecuteTime": {
     "end_time": "2022-09-09T16:02:17.834693Z",
     "start_time": "2022-09-09T16:02:14.384390Z"
    }
   },
   "outputs": [
    {
     "name": "stderr",
     "output_type": "stream",
     "text": [
      "                                                                                \r"
     ]
    },
    {
     "name": "stdout",
     "output_type": "stream",
     "text": [
      "+-------+-----+\n",
      "|weather|ratio|\n",
      "+-------+-----+\n",
      "|   rain| 0.02|\n",
      "+-------+-----+\n",
      "\n"
     ]
    }
   ],
   "source": [
    "subset.groupby('weather').agg(\n",
    "    (\n",
    "        round(count('weather') / subset.count(), 2)\n",
    "    ).alias('ratio')\n",
    ").filter(subset.weather == 'rain').show()"
   ]
  },
  {
   "cell_type": "markdown",
   "id": "25091d8c",
   "metadata": {},
   "source": [
    "For each year, find what percentage of days it rained (had non-zero precipitation)."
   ]
  },
  {
   "cell_type": "code",
   "execution_count": 30,
   "id": "1de1aacc",
   "metadata": {
    "ExecuteTime": {
     "end_time": "2022-09-09T16:03:28.612743Z",
     "start_time": "2022-09-09T16:03:28.403652Z"
    }
   },
   "outputs": [],
   "source": [
    "# Create a column for whether there is non zero precipitation (1) or not (0)\n",
    "weather = weather.withColumn('non_zero_precip', when(weather.precipitation>0,1).otherwise(0))"
   ]
  },
  {
   "cell_type": "code",
   "execution_count": 31,
   "id": "737a3c9e",
   "metadata": {
    "ExecuteTime": {
     "end_time": "2022-09-09T16:03:37.447090Z",
     "start_time": "2022-09-09T16:03:36.987101Z"
    }
   },
   "outputs": [
    {
     "name": "stdout",
     "output_type": "stream",
     "text": [
      "+----------+-------------+--------+--------+----+-------+------------------+----------+-----+----+-------+---------------+\n",
      "|      date|precipitation|temp_max|temp_min|wind|weather|        temp_max_f|temp_min_f|month|year|quarter|non_zero_precip|\n",
      "+----------+-------------+--------+--------+----+-------+------------------+----------+-----+----+-------+---------------+\n",
      "|2012-01-01|          0.0|    12.8|     5.0| 4.7|drizzle|55.040000000000006|      41.0|   01|2012|      1|              0|\n",
      "|2012-01-02|         10.9|    10.6|     2.8| 4.5|   rain|             51.08|     37.04|   01|2012|      1|              1|\n",
      "|2012-01-03|          0.8|    11.7|     7.2| 2.3|   rain|             53.06|     44.96|   01|2012|      1|              1|\n",
      "|2012-01-04|         20.3|    12.2|     5.6| 4.7|   rain|             53.96|     42.08|   01|2012|      1|              1|\n",
      "|2012-01-05|          1.3|     8.9|     2.8| 6.1|   rain|48.019999999999996|     37.04|   01|2012|      1|              1|\n",
      "+----------+-------------+--------+--------+----+-------+------------------+----------+-----+----+-------+---------------+\n",
      "only showing top 5 rows\n",
      "\n"
     ]
    }
   ],
   "source": [
    "weather.show(5)"
   ]
  },
  {
   "cell_type": "code",
   "execution_count": 32,
   "id": "b0fb7fe0",
   "metadata": {
    "ExecuteTime": {
     "end_time": "2022-09-09T16:04:17.898425Z",
     "start_time": "2022-09-09T16:04:16.197002Z"
    }
   },
   "outputs": [
    {
     "name": "stderr",
     "output_type": "stream",
     "text": [
      "\r",
      "[Stage 47:>                                                         (0 + 8) / 8]\r"
     ]
    },
    {
     "name": "stdout",
     "output_type": "stream",
     "text": [
      "+----+-----+\n",
      "|year|ratio|\n",
      "+----+-----+\n",
      "|2012| 0.48|\n",
      "|2013| 0.42|\n",
      "|2014| 0.41|\n",
      "|2015| 0.39|\n",
      "+----+-----+\n",
      "\n"
     ]
    },
    {
     "name": "stderr",
     "output_type": "stream",
     "text": [
      "\r",
      "                                                                                \r"
     ]
    }
   ],
   "source": [
    "weather.groupby('year').agg(\n",
    "    (\n",
    "        round(sum('non_zero_precip') / count('non_zero_precip'), 2)\n",
    "    ).alias('ratio')\n",
    ").show()"
   ]
  },
  {
   "cell_type": "code",
   "execution_count": null,
   "id": "2101a1fd",
   "metadata": {},
   "outputs": [],
   "source": []
  }
 ],
 "metadata": {
  "kernelspec": {
   "display_name": "Python 3 (ipykernel)",
   "language": "python",
   "name": "python3"
  },
  "language_info": {
   "codemirror_mode": {
    "name": "ipython",
    "version": 3
   },
   "file_extension": ".py",
   "mimetype": "text/x-python",
   "name": "python",
   "nbconvert_exporter": "python",
   "pygments_lexer": "ipython3",
   "version": "3.9.13"
  }
 },
 "nbformat": 4,
 "nbformat_minor": 5
}
